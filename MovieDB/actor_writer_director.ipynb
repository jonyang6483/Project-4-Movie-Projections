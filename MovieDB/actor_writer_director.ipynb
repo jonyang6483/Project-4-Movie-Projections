{
 "cells": [
  {
   "cell_type": "code",
   "execution_count": 4,
   "id": "f887df09",
   "metadata": {},
   "outputs": [],
   "source": [
    "from pathlib import Path\n",
    "import pandas as pd"
   ]
  },
  {
   "cell_type": "code",
   "execution_count": 43,
   "id": "ff8c08c2",
   "metadata": {},
   "outputs": [],
   "source": [
    "file_path = Path(\"archive/movies.csv\")\n",
    "df_movie = pd.read_csv(file_path)"
   ]
  },
  {
   "cell_type": "code",
   "execution_count": 44,
   "id": "d13e8eaf",
   "metadata": {},
   "outputs": [],
   "source": [
    "df_movie[\"released\"] = df_movie[\"released\"].str.split(\"\\s+\\(\").str[0]\n",
    "#df_movie[\"released_country\"] = df_movie[\"released\"].str.split(\"\\s+\\(\").str[1]\n",
    "df_movie[\"released\"] = pd.to_datetime(df_movie['released'])\n"
   ]
  },
  {
   "cell_type": "code",
   "execution_count": 52,
   "id": "eb236a28",
   "metadata": {},
   "outputs": [],
   "source": [
    "df_movie [\"released\"] = df_movie[\"released\"].dt.month_name()"
   ]
  },
  {
   "cell_type": "code",
   "execution_count": null,
   "id": "ce7e6494",
   "metadata": {},
   "outputs": [],
   "source": [
    "df_movie"
   ]
  },
  {
   "cell_type": "code",
   "execution_count": 61,
   "id": "d8a6f97d",
   "metadata": {},
   "outputs": [
    {
     "data": {
      "text/plain": [
       "name        7512\n",
       "rating        12\n",
       "genre         19\n",
       "year          41\n",
       "released      12\n",
       "score         72\n",
       "votes        936\n",
       "director    2949\n",
       "writer      4535\n",
       "star        2814\n",
       "country       59\n",
       "budget       413\n",
       "gross       7472\n",
       "company     2385\n",
       "runtime      138\n",
       "dtype: int64"
      ]
     },
     "execution_count": 61,
     "metadata": {},
     "output_type": "execute_result"
    }
   ],
   "source": [
    "df_movie.nunique()"
   ]
  },
  {
   "cell_type": "code",
   "execution_count": 76,
   "id": "163f1942",
   "metadata": {},
   "outputs": [
    {
     "data": {
      "text/plain": [
       "director\n",
       "Woody Allen          38\n",
       "Clint Eastwood       31\n",
       "Directors            27\n",
       "Steven Spielberg     27\n",
       "Ron Howard           24\n",
       "Ridley Scott         23\n",
       "Steven Soderbergh    23\n",
       "Joel Schumacher      22\n",
       "Barry Levinson       20\n",
       "Martin Scorsese      19\n",
       "Tim Burton           19\n",
       "Oliver Stone         18\n",
       "Garry Marshall       18\n",
       "Robert Zemeckis      17\n",
       "Sidney Lumet         17\n",
       "Stephen Frears       17\n",
       "Richard Linklater    17\n",
       "Spike Lee            17\n",
       "Brian De Palma       17\n",
       "Rob Reiner           16\n",
       "Walter Hill          16\n",
       "Michael Apted        16\n",
       "Wes Craven           16\n",
       "Tony Scott           16\n",
       "David Cronenberg     15\n",
       "Renny Harlin         15\n",
       "Lasse Hallström      15\n",
       "Chris Columbus       15\n",
       "Sam Raimi            14\n",
       "Dennis Dugan         14\n",
       "Ivan Reitman         14\n",
       "Gus Van Sant         14\n",
       "Robert Altman        14\n",
       "Peter Hyams          14\n",
       "Pedro Almodóvar      14\n",
       "Richard Donner       14\n",
       "John Carpenter       14\n",
       "Neil Jordan          14\n",
       "Roger Donaldson      14\n",
       "Mike Newell          14\n",
       "Name: gross, dtype: int64"
      ]
     },
     "execution_count": 76,
     "metadata": {},
     "output_type": "execute_result"
    }
   ],
   "source": [
    "df_movie.groupby(by=\"director\").count().sort_values(by=\"gross\", ascending=False)[\"gross\"].head(40)"
   ]
  },
  {
   "cell_type": "code",
   "execution_count": 72,
   "id": "7addbaa8",
   "metadata": {},
   "outputs": [
    {
     "data": {
      "text/plain": [
       "writer\n",
       "Christopher Markus    7.587182e+09\n",
       "James Cameron         6.282146e+09\n",
       "John Lasseter         4.656539e+09\n",
       "Chris Morgan          4.360332e+09\n",
       "Steve Kloves          4.184681e+09\n",
       "J.K. Rowling          4.152832e+09\n",
       "Ehren Kruger          4.103318e+09\n",
       "Cinco Paul            3.911674e+09\n",
       "Ted Elliott           3.727154e+09\n",
       "Fran Walsh            3.710457e+09\n",
       "Lawrence Kasdan       3.519337e+09\n",
       "Melissa Rosenberg     3.359901e+09\n",
       "Bruce Geller          3.173172e+09\n",
       "Michael Crichton      3.138481e+09\n",
       "Jeff Nathanson        3.075820e+09\n",
       "Joss Whedon           3.048630e+09\n",
       "Linda Woolverton      3.000399e+09\n",
       "J.R.R. Tolkien        2.991216e+09\n",
       "Jonathan Nolan        2.898522e+09\n",
       "Jennifer Lee          2.864211e+09\n",
       "Name: gross, dtype: float64"
      ]
     },
     "execution_count": 72,
     "metadata": {},
     "output_type": "execute_result"
    }
   ],
   "source": [
    "df_movie.groupby(by=\"writer\").sum().sort_values(by=\"gross\", ascending=False)[\"gross\"].head(20)"
   ]
  },
  {
   "cell_type": "code",
   "execution_count": 73,
   "id": "870969aa",
   "metadata": {},
   "outputs": [
    {
     "data": {
      "text/plain": [
       "star\n",
       "Robert Downey Jr.        1.185953e+10\n",
       "Tom Hanks                9.952424e+09\n",
       "Tom Cruise               9.602553e+09\n",
       "Daniel Radcliffe         7.954065e+09\n",
       "Will Smith               7.947279e+09\n",
       "Johnny Depp              7.444239e+09\n",
       "Leonardo DiCaprio        6.963368e+09\n",
       "Vin Diesel               6.036313e+09\n",
       "Dwayne Johnson           5.711271e+09\n",
       "Bruce Willis             5.318951e+09\n",
       "Chris Pratt              5.278456e+09\n",
       "Ben Stiller              5.257347e+09\n",
       "Adam Sandler             4.949567e+09\n",
       "Harrison Ford            4.897078e+09\n",
       "Daisy Ridley             4.480695e+09\n",
       "Jim Carrey               4.463263e+09\n",
       "Mark Wahlberg            4.347565e+09\n",
       "Sandra Bullock           4.281854e+09\n",
       "Mel Gibson               4.214842e+09\n",
       "Arnold Schwarzenegger    4.198601e+09\n",
       "Name: gross, dtype: float64"
      ]
     },
     "execution_count": 73,
     "metadata": {},
     "output_type": "execute_result"
    }
   ],
   "source": [
    "df_movie.groupby(by=\"star\").sum().sort_values(by=\"gross\", ascending=False)[\"gross\"].head(20)"
   ]
  },
  {
   "cell_type": "code",
   "execution_count": null,
   "id": "abbc9390",
   "metadata": {},
   "outputs": [],
   "source": []
  }
 ],
 "metadata": {
  "kernelspec": {
   "display_name": "PythonData",
   "language": "python",
   "name": "pythondata"
  },
  "language_info": {
   "codemirror_mode": {
    "name": "ipython",
    "version": 3
   },
   "file_extension": ".py",
   "mimetype": "text/x-python",
   "name": "python",
   "nbconvert_exporter": "python",
   "pygments_lexer": "ipython3",
   "version": "3.7.7"
  }
 },
 "nbformat": 4,
 "nbformat_minor": 5
}
