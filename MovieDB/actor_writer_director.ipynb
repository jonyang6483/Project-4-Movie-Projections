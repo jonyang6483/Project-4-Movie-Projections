{
 "cells": [
  {
   "cell_type": "code",
   "execution_count": 664,
   "id": "780e85eb",
   "metadata": {},
   "outputs": [],
   "source": [
    "from pathlib import Path\n",
    "import pandas as pd\n",
    "import tensorflow as tf\n",
    "from sklearn.metrics import accuracy_score\n",
    "from sklearn.preprocessing import StandardScaler\n",
    "from sklearn.model_selection import train_test_split\n",
    "from sklearn.preprocessing import MinMaxScaler\n",
    "\n",
    "import os\n",
    "import psycopg2\n",
    "from flask import Flask, render_template\n",
    "import pandas as pd\n",
    "\n",
    "#import sqlkey\n",
    "from config import sql_pass"
   ]
  },
  {
   "cell_type": "code",
   "execution_count": 665,
   "id": "89bf4491",
   "metadata": {},
   "outputs": [],
   "source": [
    "conn = psycopg2.connect(database=\"flask_df\", user=\"flask_df_user\", password=sql_pass, host=\"dpg-cgtiqjl269vbmeuj26cg-a.oregon-postgres.render.com\", port=5432)\n",
    "\n",
    "# Open a cursor to perform database operations\n",
    "cur = conn.cursor()"
   ]
  },
  {
   "cell_type": "code",
   "execution_count": 638,
   "id": "00b69fa3",
   "metadata": {},
   "outputs": [],
   "source": [
    "# create query and create dataframe from query\n",
    "cur.execute('SELECT * FROM movie_successs;')\n",
    "books = cur.fetchall()\n",
    "col_name = ['name', 'rating', 'genre', 'year', 'released', 'score', 'votes', 'director', 'writer', 'star', 'country', 'budget', 'gross', 'company', 'runtime', 'cpi', 'ticket']\n",
    "df_movie = pd.DataFrame(books, columns = col_name)"
   ]
  },
  {
   "cell_type": "code",
   "execution_count": 639,
   "id": "d5d392a8",
   "metadata": {},
   "outputs": [],
   "source": [
    "#Split release data and create a monthly column\n",
    "\n",
    "df_movie[\"released\"] = df_movie[\"released\"].str.split(\"\\s+\\(\").str[0]\n",
    "\n",
    "df_movie[\"released\"] = pd.to_datetime(df_movie['released'])\n",
    "\n",
    "df_movie [\"released\"] = df_movie[\"released\"].dt.month_name()"
   ]
  },
  {
   "cell_type": "code",
   "execution_count": 640,
   "id": "a638fa76",
   "metadata": {},
   "outputs": [
    {
     "data": {
      "text/plain": [
       "name         object\n",
       "rating       object\n",
       "genre        object\n",
       "year          int64\n",
       "released     object\n",
       "score       float64\n",
       "votes       float64\n",
       "director     object\n",
       "writer       object\n",
       "star         object\n",
       "country      object\n",
       "budget      float64\n",
       "gross       float64\n",
       "company      object\n",
       "runtime     float64\n",
       "cpi         float64\n",
       "ticket        int32\n",
       "dtype: object"
      ]
     },
     "execution_count": 640,
     "metadata": {},
     "output_type": "execute_result"
    }
   ],
   "source": [
    "#assign datatypes\n",
    "\n",
    "df_movie = df_movie[pd.to_numeric(df_movie['score'], errors='coerce').notnull()]\n",
    "df_movie = df_movie[pd.to_numeric(df_movie['budget'], errors='coerce').notnull()]\n",
    "df_movie = df_movie[pd.to_numeric(df_movie['gross'], errors='coerce').notnull()]\n",
    "df_movie = df_movie[pd.to_numeric(df_movie['votes'], errors='coerce').notnull()]\n",
    "df_movie['cpi'] = df_movie['cpi'].astype('float')\n",
    "df_movie['budget'] = df_movie['budget'].astype('float')\n",
    "df_movie['ticket'] = df_movie['ticket'].astype('float')\n",
    "df_movie['ticket'] = df_movie['ticket'].astype('int')\n",
    "df_movie['score'] = df_movie['score'].astype('float')\n",
    "\n",
    "df_movie.dtypes\n"
   ]
  },
  {
   "cell_type": "code",
   "execution_count": 641,
   "id": "920b5313",
   "metadata": {},
   "outputs": [],
   "source": [
    "# add column for character count of movie title\n",
    "\n",
    "df_movie['title_char'] = df_movie['name'].str.len()"
   ]
  },
  {
   "cell_type": "code",
   "execution_count": 642,
   "id": "6b848741",
   "metadata": {},
   "outputs": [],
   "source": [
    "# look for sequel indicator and assign value of 1 or 0\n",
    "\n",
    "df_movie['sequel'] = df_movie['name'].str.extract('(^\\d*)')\n",
    "\n",
    "df_movie['sequels']=df_movie['sequel'].isin([\"\"]).astype(int)\n",
    "\n",
    "df_movie = df_movie.drop(columns=['sequel'])"
   ]
  },
  {
   "cell_type": "code",
   "execution_count": 643,
   "id": "3b8132ed",
   "metadata": {},
   "outputs": [],
   "source": [
    "# added averaged score values for director, writer and star\n",
    "\n",
    "df_movie['director_number'] = df_movie.groupby('director')['score'].transform('sum')/df_movie.groupby('director')['score'].transform('count')\n",
    "df_movie['writer_number'] = df_movie.groupby('writer')['score'].transform('sum')/df_movie.groupby('writer')['score'].transform('count')\n",
    "df_movie['star_number'] = df_movie.groupby('star')['score'].transform('sum')/df_movie.groupby('star')['score'].transform('count')\n",
    "\n",
    "df_movie['director_number'] = df_movie['director_number'].astype('float')\n",
    "df_movie['writer_number'] = df_movie['writer_number'].astype('float')\n",
    "df_movie['star_number'] = df_movie['star_number'].astype('float')"
   ]
  },
  {
   "cell_type": "code",
   "execution_count": 644,
   "id": "7293297c",
   "metadata": {},
   "outputs": [],
   "source": [
    "# assign 1 and 0 for success or failure\n",
    "df_movie['trixbudget']= df_movie['gross'] - 3.0*df_movie['budget']\n",
    "df_movie['success'] = df_movie['trixbudget'].map(lambda x: x>0).astype(int)"
   ]
  },
  {
   "cell_type": "code",
   "execution_count": 645,
   "id": "cfa56a09",
   "metadata": {},
   "outputs": [],
   "source": [
    "# drop unnecessary values\n",
    "\n",
    "df_movie_clean = df_movie.drop(columns=['name', 'trixbudget', 'gross', 'votes'])\n",
    "\n",
    "df_movie_clean = df_movie_clean[df_movie_clean.budget > 15000000]\n",
    "\n",
    "df_movie_clean = df_movie_clean[df_movie_clean.year > 1985]\n",
    "\n",
    "df_movie_clean = df_movie_clean.dropna()"
   ]
  },
  {
   "cell_type": "code",
   "execution_count": 646,
   "id": "e719f182",
   "metadata": {},
   "outputs": [],
   "source": [
    "# assign values as other for counts under certain values\n",
    "\n",
    "director_other = df_movie_clean['director'].value_counts() < 11 #15\n",
    "df_movie_clean.loc[df_movie_clean['director'].isin(director_other.index[director_other]), 'director'] = 'others'\n",
    "\n",
    "writer_other = df_movie_clean['writer'].value_counts() < 8\n",
    "df_movie_clean.loc[df_movie_clean['writer'].isin(writer_other.index[writer_other]), 'writer'] = 'others'\n",
    "\n",
    "star_other = df_movie_clean['star'].value_counts() < 12\n",
    "df_movie_clean.loc[df_movie_clean['star'].isin(star_other.index[star_other]), 'star'] = 'others'\n",
    "\n",
    "country_other = df_movie_clean['country'].value_counts() < 25\n",
    "df_movie_clean.loc[df_movie_clean['country'].isin(country_other.index[country_other]), 'country'] = 'others'\n",
    "\n",
    "company_other = df_movie_clean['company'].value_counts() < 100\n",
    "df_movie_clean.loc[df_movie_clean['company'].isin(company_other.index[company_other]), 'company'] = 'others'\n",
    "\n",
    "rating_other = df_movie_clean['rating'].value_counts() < 100\n",
    "df_movie_clean.loc[df_movie_clean['rating'].isin(rating_other.index[rating_other]), 'rating'] = 'others'\n",
    "\n",
    "genre_other = df_movie_clean['genre'].value_counts() < 20\n",
    "df_movie_clean.loc[df_movie_clean['genre'].isin(genre_other.index[genre_other]), 'rating'] = 'others'"
   ]
  },
  {
   "cell_type": "code",
   "execution_count": 649,
   "id": "5156d650",
   "metadata": {},
   "outputs": [],
   "source": [
    "#cpi adjustments:\n",
    "df_movie_clean['budget'] = df_movie_clean['budget']/df_movie_clean['cpi']\n",
    "df_movie_clean['ticket'] = df_movie_clean['ticket']/df_movie_clean['cpi']"
   ]
  },
  {
   "cell_type": "code",
   "execution_count": 650,
   "id": "a5934dbc",
   "metadata": {},
   "outputs": [],
   "source": [
    "df_movie_dummies = pd.get_dummies(df_movie_clean)"
   ]
  },
  {
   "cell_type": "code",
   "execution_count": 651,
   "id": "422d5bca",
   "metadata": {},
   "outputs": [],
   "source": [
    "# create dummy for non-integer variables\n",
    "df_movie_dummies = pd.get_dummies(df_movie_clean)"
   ]
  },
  {
   "cell_type": "code",
   "execution_count": 652,
   "id": "19b64a45",
   "metadata": {},
   "outputs": [],
   "source": [
    "#split x and y values and create train test split\n",
    "y = df_movie_dummies[\"success\"]\n",
    "\n",
    "X = df_movie_dummies.drop(columns=['success'])\n",
    "\n",
    "X_train, X_test, y_train, y_test = train_test_split(X, y, random_state=42)"
   ]
  },
  {
   "cell_type": "code",
   "execution_count": 653,
   "id": "660956d0",
   "metadata": {},
   "outputs": [],
   "source": [
    "# scale x variables\n",
    "\n",
    "scaler = StandardScaler()\n",
    "\n",
    "X_scaler = scaler.fit(X_train)\n",
    "\n",
    "X_train_scaled = X_scaler.transform(X_train)\n",
    "\n",
    "X_test_scaled = X_scaler.transform(X_test)"
   ]
  },
  {
   "cell_type": "code",
   "execution_count": 659,
   "id": "ad0a8b57",
   "metadata": {},
   "outputs": [
    {
     "name": "stdout",
     "output_type": "stream",
     "text": [
      "Epoch 1/13\n",
      "76/76 [==============================] - 1s 2ms/step - loss: 0.6264 - accuracy: 0.6957\n",
      "Epoch 2/13\n",
      "76/76 [==============================] - 0s 2ms/step - loss: 0.5990 - accuracy: 0.6961\n",
      "Epoch 3/13\n",
      "76/76 [==============================] - 0s 2ms/step - loss: 0.5849 - accuracy: 0.6961\n",
      "Epoch 4/13\n",
      "76/76 [==============================] - 0s 2ms/step - loss: 0.5715 - accuracy: 0.6978\n",
      "Epoch 5/13\n",
      "76/76 [==============================] - 0s 2ms/step - loss: 0.5581 - accuracy: 0.7177\n",
      "Epoch 6/13\n",
      "76/76 [==============================] - 0s 2ms/step - loss: 0.5458 - accuracy: 0.7343\n",
      "Epoch 7/13\n",
      "76/76 [==============================] - 0s 2ms/step - loss: 0.5348 - accuracy: 0.7476\n",
      "Epoch 8/13\n",
      "76/76 [==============================] - 0s 2ms/step - loss: 0.5259 - accuracy: 0.7543\n",
      "Epoch 9/13\n",
      "76/76 [==============================] - 0s 2ms/step - loss: 0.5181 - accuracy: 0.7567\n",
      "Epoch 10/13\n",
      "76/76 [==============================] - 0s 2ms/step - loss: 0.5110 - accuracy: 0.7638\n",
      "Epoch 11/13\n",
      "76/76 [==============================] - 0s 2ms/step - loss: 0.5056 - accuracy: 0.7709\n",
      "Epoch 12/13\n",
      "76/76 [==============================] - 0s 2ms/step - loss: 0.5005 - accuracy: 0.7704\n",
      "Epoch 13/13\n",
      "76/76 [==============================] - 0s 2ms/step - loss: 0.4963 - accuracy: 0.7738\n",
      "26/26 - 0s - loss: 0.5231 - accuracy: 0.7559 - 167ms/epoch - 6ms/step\n",
      "Loss: 0.5230792164802551, Accuracy: 0.7559153437614441\n"
     ]
    }
   ],
   "source": [
    "# create model\n",
    "\n",
    "nn_model = tf.keras.models.Sequential()\n",
    "nn_model.add(tf.keras.layers.Dense(units=20, activation=\"sigmoid\", input_dim=152))\n",
    "nn_model.add(tf.keras.layers.Dense(units=4, activation=\"sigmoid\"))\n",
    "nn_model.add(tf.keras.layers.Dense(units=1, activation=\"sigmoid\"))\n",
    "\n",
    "nn_model.compile(loss=\"binary_crossentropy\", optimizer=\"adam\", metrics=[\"accuracy\"])\n",
    "\n",
    "fit_model = nn_model.fit(X_train_scaled, y_train, epochs=13)\n",
    "\n",
    "\n",
    "model_loss, model_accuracy = nn_model.evaluate(X_test_scaled,y_test,verbose=2)\n",
    "print(f\"Loss: {model_loss}, Accuracy: {model_accuracy}\")"
   ]
  }
 ],
 "metadata": {
  "kernelspec": {
   "display_name": "PythonData",
   "language": "python",
   "name": "pythondata"
  },
  "language_info": {
   "codemirror_mode": {
    "name": "ipython",
    "version": 3
   },
   "file_extension": ".py",
   "mimetype": "text/x-python",
   "name": "python",
   "nbconvert_exporter": "python",
   "pygments_lexer": "ipython3",
   "version": "3.7.7"
  }
 },
 "nbformat": 4,
 "nbformat_minor": 5
}
