{
  "nbformat": 4,
  "nbformat_minor": 0,
  "metadata": {
    "colab": {
      "provenance": []
    },
    "kernelspec": {
      "name": "python3",
      "display_name": "Python 3"
    },
    "language_info": {
      "name": "python"
    }
  },
  "cells": [
    {
      "cell_type": "code",
      "execution_count": 50,
      "metadata": {
        "colab": {
          "base_uri": "https://localhost:8080/"
        },
        "id": "xSjmsCGX9uMx",
        "outputId": "defb9929-e75d-4358-81a7-82de2ff38f54"
      },
      "outputs": [
        {
          "output_type": "stream",
          "name": "stdout",
          "text": [
            "\r0% [Working]\r            \rHit:1 http://security.ubuntu.com/ubuntu focal-security InRelease\n",
            "\r0% [Connecting to archive.ubuntu.com (185.125.190.36)] [Connected to cloud.r-pr\r                                                                               \rHit:2 https://cloud.r-project.org/bin/linux/ubuntu focal-cran40/ InRelease\n",
            "\r0% [Connecting to archive.ubuntu.com (185.125.190.36)] [Waiting for headers] [W\r                                                                               \rHit:3 https://developer.download.nvidia.com/compute/cuda/repos/ubuntu2004/x86_64  InRelease\n",
            "Hit:4 http://ppa.launchpad.net/c2d4u.team/c2d4u4.0+/ubuntu focal InRelease\n",
            "Hit:5 http://archive.ubuntu.com/ubuntu focal InRelease\n",
            "Hit:6 http://archive.ubuntu.com/ubuntu focal-updates InRelease\n",
            "Hit:7 http://archive.ubuntu.com/ubuntu focal-backports InRelease\n",
            "Hit:8 http://ppa.launchpad.net/cran/libgit2/ubuntu focal InRelease\n",
            "Hit:9 http://ppa.launchpad.net/deadsnakes/ppa/ubuntu focal InRelease\n",
            "Hit:10 http://ppa.launchpad.net/graphics-drivers/ppa/ubuntu focal InRelease\n",
            "Hit:11 http://ppa.launchpad.net/ubuntugis/ppa/ubuntu focal InRelease\n",
            "Reading package lists... Done\n"
          ]
        }
      ],
      "source": [
        "import os\n",
        "import pandas as pd\n",
        "# Find the latest version of spark 3.x  from http://www.apache.org/dist/spark/ and enter as the spark version\n",
        "# For example:\n",
        "# spark_version = 'spark-3.4.0'\n",
        "spark_version = 'spark-3.4.0'\n",
        "os.environ['SPARK_VERSION']=spark_version\n",
        "\n",
        "# Install Spark and Java\n",
        "!apt-get update\n",
        "!apt-get install openjdk-11-jdk-headless -qq > /dev/null\n",
        "!wget -q http://www.apache.org/dist/spark/$SPARK_VERSION/$SPARK_VERSION-bin-hadoop3.tgz\n",
        "!tar xf $SPARK_VERSION-bin-hadoop3.tgz\n",
        "!pip install -q findspark\n",
        "\n",
        "# Set Environment Variables\n",
        "os.environ[\"JAVA_HOME\"] = \"/usr/lib/jvm/java-11-openjdk-amd64\"\n",
        "os.environ[\"SPARK_HOME\"] = f\"/content/{spark_version}-bin-hadoop3\"\n",
        "\n",
        "# Start a SparkSession\n",
        "import findspark\n",
        "findspark.init()"
      ]
    },
    {
      "cell_type": "code",
      "source": [
        "# Import packages\n",
        "from pyspark.sql import SparkSession\n",
        "import time\n",
        "\n",
        "# Create a SparkSession\n",
        "spark = SparkSession.builder.appName(\"SparkSQL\").config(\"spark.driver.memory\", \"2g\").getOrCreate()"
      ],
      "metadata": {
        "id": "u9xZHrOn-RCF"
      },
      "execution_count": 51,
      "outputs": []
    },
    {
      "cell_type": "code",
      "source": [
        "# Uploading the Genres file\n",
        "genres_df = spark.read.csv(\"genres.csv\", header=True, inferSchema=True)\n",
        "genres_df.show()"
      ],
      "metadata": {
        "colab": {
          "base_uri": "https://localhost:8080/"
        },
        "id": "l6IfRPdI-Sgx",
        "outputId": "0b438cfd-ddef-4187-d35f-d5fb9eefbf7f"
      },
      "execution_count": 52,
      "outputs": [
        {
          "output_type": "stream",
          "name": "stdout",
          "text": [
            "+---+--------------------+---------+\n",
            "|_c0|               title|    genre|\n",
            "+---+--------------------+---------+\n",
            "|  0|           Toy Story|Animation|\n",
            "|  1|           Toy Story|   Comedy|\n",
            "|  2|           Toy Story|   Family|\n",
            "|  3|             Jumanji|Adventure|\n",
            "|  4|             Jumanji|  Fantasy|\n",
            "|  5|             Jumanji|   Family|\n",
            "|  6|    Grumpier Old Men|  Romance|\n",
            "|  7|    Grumpier Old Men|   Comedy|\n",
            "|  8|   Waiting to Exhale|   Comedy|\n",
            "|  9|   Waiting to Exhale|    Drama|\n",
            "| 10|   Waiting to Exhale|  Romance|\n",
            "| 11|Father of the Bri...|   Comedy|\n",
            "| 12|                Heat|   Action|\n",
            "| 13|                Heat|    Crime|\n",
            "| 14|                Heat|    Drama|\n",
            "| 15|                Heat| Thriller|\n",
            "| 16|             Sabrina|   Comedy|\n",
            "| 17|             Sabrina|  Romance|\n",
            "| 18|        Tom and Huck|   Action|\n",
            "| 19|        Tom and Huck|Adventure|\n",
            "+---+--------------------+---------+\n",
            "only showing top 20 rows\n",
            "\n"
          ]
        }
      ]
    },
    {
      "cell_type": "code",
      "source": [
        "# Uploading the Movies file\n",
        "movies_df = spark.read.csv(\"movies.csv\", header=True, inferSchema=True)\n",
        "movies_df.show()"
      ],
      "metadata": {
        "colab": {
          "base_uri": "https://localhost:8080/"
        },
        "id": "zlnGFRR9AR_J",
        "outputId": "8932cbdd-519a-4950-ab28-d9421adf9cbd"
      },
      "execution_count": 53,
      "outputs": [
        {
          "output_type": "stream",
          "name": "stdout",
          "text": [
            "+--------------------+------+---------+----+--------------------+-----+---------+------------------+--------------------+-----------------+--------------+---------+------------+--------------------+-------+\n",
            "|                name|rating|    genre|year|            released|score|    votes|          director|              writer|             star|       country|   budget|       gross|             company|runtime|\n",
            "+--------------------+------+---------+----+--------------------+-----+---------+------------------+--------------------+-----------------+--------------+---------+------------+--------------------+-------+\n",
            "|         The Shining|     R|    Drama|1980|June 13, 1980 (Un...|  8.4| 927000.0|   Stanley Kubrick|        Stephen King|   Jack Nicholson|United Kingdom|    1.9E7| 4.6998772E7|        Warner Bros.|  146.0|\n",
            "|     The Blue Lagoon|     R|Adventure|1980|July 2, 1980 (Uni...|  5.8|  65000.0|    Randal Kleiser|Henry De Vere Sta...|   Brooke Shields| United States|4500000.0| 5.8853106E7|   Columbia Pictures|  104.0|\n",
            "|Star Wars: Episod...|    PG|   Action|1980|June 20, 1980 (Un...|  8.7|1200000.0|    Irvin Kershner|      Leigh Brackett|      Mark Hamill| United States|    1.8E7|5.38375067E8|           Lucasfilm|  124.0|\n",
            "|           Airplane!|    PG|   Comedy|1980|July 2, 1980 (Uni...|  7.7| 221000.0|      Jim Abrahams|        Jim Abrahams|      Robert Hays| United States|3500000.0| 8.3453539E7|  Paramount Pictures|   88.0|\n",
            "|          Caddyshack|     R|   Comedy|1980|July 25, 1980 (Un...|  7.3| 108000.0|      Harold Ramis|  Brian Doyle-Murray|      Chevy Chase| United States|6000000.0| 3.9846344E7|      Orion Pictures|   98.0|\n",
            "|     Friday the 13th|     R|   Horror|1980|May 9, 1980 (Unit...|  6.4| 123000.0|Sean S. Cunningham|       Victor Miller|     Betsy Palmer| United States| 550000.0| 3.9754601E7|  Paramount Pictures|   95.0|\n",
            "|  The Blues Brothers|     R|   Action|1980|June 20, 1980 (Un...|  7.9| 188000.0|       John Landis|         Dan Aykroyd|     John Belushi| United States|    2.7E7| 1.1522989E8|  Universal Pictures|  133.0|\n",
            "|         Raging Bull|     R|Biography|1980|December 19, 1980...|  8.2| 330000.0|   Martin Scorsese|        Jake LaMotta|   Robert De Niro| United States|    1.8E7| 2.3402427E7|Chartoff-Winkler ...|  129.0|\n",
            "|         Superman II|    PG|   Action|1980|June 19, 1981 (Un...|  6.8| 101000.0|    Richard Lester|        Jerry Siegel|     Gene Hackman| United States|    5.4E7|1.08185706E8|      Dovemead Films|  127.0|\n",
            "|     The Long Riders|     R|Biography|1980|May 16, 1980 (Uni...|  7.0|  10000.0|       Walter Hill|         Bill Bryden|  David Carradine| United States|    1.0E7| 1.5795189E7|      United Artists|  100.0|\n",
            "|Any Which Way You...|    PG|   Action|1980|December 17, 1980...|  6.1|  18000.0|    Buddy Van Horn|    Stanford Sherman|   Clint Eastwood| United States|    1.5E7| 7.0687344E7| The Malpaso Company|  116.0|\n",
            "|The Gods Must Be ...|    PG|Adventure|1980|October 26, 1984 ...|  7.3|  54000.0|         Jamie Uys|           Jamie Uys|            N!xau|  South Africa|5000000.0| 3.0031783E7|        C.A.T. Films|  109.0|\n",
            "|              Popeye|    PG|Adventure|1980|December 12, 1980...|  5.3|  30000.0|     Robert Altman|       Jules Feiffer|   Robin Williams| United States|    2.0E7| 4.9823037E7|  Paramount Pictures|  114.0|\n",
            "|     Ordinary People|     R|    Drama|1980|September 19, 198...|  7.7|  49000.0|    Robert Redford|        Judith Guest|Donald Sutherland| United States|6000000.0| 5.4766923E7|  Paramount Pictures|  124.0|\n",
            "|     Dressed to Kill|     R|    Crime|1980|July 25, 1980 (Un...|  7.1|  37000.0|    Brian De Palma|      Brian De Palma|    Michael Caine| United States|6500000.0|    3.1899E7|   Filmways Pictures|  104.0|\n",
            "|   Somewhere in Time|    PG|    Drama|1980|October 3, 1980 (...|  7.2|  27000.0|    Jeannot Szwarc|    Richard Matheson|Christopher Reeve| United States|5100000.0|   9709597.0|     Rastar Pictures|  103.0|\n",
            "|                Fame|     R|    Drama|1980|May 16, 1980 (Uni...|  6.6|  21000.0|       Alan Parker|    Christopher Gore|      Eddie Barth| United States|     null| 2.1202829E7|Metro-Goldwyn-May...|  134.0|\n",
            "|              9 to 5|    PG|   Comedy|1980|December 19, 1980...|  6.9|  29000.0|     Colin Higgins|    Patricia Resnick|       Jane Fonda| United States|    1.0E7|1.03300686E8|           IPC Films|  109.0|\n",
            "|             The Fog|     R|   Horror|1980|February 8, 1980 ...|  6.8|  66000.0|    John Carpenter|      John Carpenter| Adrienne Barbeau| United States|1000000.0| 2.1448782E7|AVCO Embassy Pict...|   89.0|\n",
            "|          Stir Crazy|     R|   Comedy|1980|December 12, 1980...|  6.8|  26000.0|    Sidney Poitier|  Bruce Jay Friedman|      Gene Wilder| United States|     null|     1.013E8|   Columbia Pictures|  111.0|\n",
            "+--------------------+------+---------+----+--------------------+-----+---------+------------------+--------------------+-----------------+--------------+---------+------------+--------------------+-------+\n",
            "only showing top 20 rows\n",
            "\n"
          ]
        }
      ]
    },
    {
      "cell_type": "code",
      "source": [
        "# Uploading the Metadata file\n",
        "metadata_df = spark.read.csv(\"movies_metadata.csv\", header=True, inferSchema=True)\n",
        "metadata_df.show()"
      ],
      "metadata": {
        "colab": {
          "base_uri": "https://localhost:8080/"
        },
        "id": "IMp6Vcl3AlNR",
        "outputId": "280e141c-b443-45fa-e333-531677209af0"
      },
      "execution_count": 54,
      "outputs": [
        {
          "output_type": "stream",
          "name": "stdout",
          "text": [
            "+-----+---------------------+--------+--------------------+--------------------+-----+---------+-----------------+--------------------+--------------------+----------+--------------------+--------------------+--------------------+--------------------+--------------------+--------------------+--------------------+--------+--------------------+--------------------+--------+--------------------+-----------------+\n",
            "|adult|belongs_to_collection|  budget|              genres|            homepage|   id|  imdb_id|original_language|      original_title|            overview|popularity|         poster_path|production_companies|production_countries|        release_date|             revenue|             runtime|    spoken_languages|  status|             tagline|               title|   video|        vote_average|       vote_count|\n",
            "+-----+---------------------+--------+--------------------+--------------------+-----+---------+-----------------+--------------------+--------------------+----------+--------------------+--------------------+--------------------+--------------------+--------------------+--------------------+--------------------+--------+--------------------+--------------------+--------+--------------------+-----------------+\n",
            "|False| {'id': 10194, 'na...|30000000|[{'id': 16, 'name...|http://toystory.d...|  862|tt0114709|               en|           Toy Story|Led by Woody, And...| 21.946943|/rhIRbceoE9lR4veE...|[{'name': 'Pixar ...|[{'iso_3166_1': '...|          1995-10-30|           373554033|                81.0|[{'iso_639_1': 'e...|Released|                null|           Toy Story|   False|                 7.7|             5415|\n",
            "|False|                 null|65000000|[{'id': 12, 'name...|                null| 8844|tt0113497|               en|             Jumanji|When siblings Jud...| 17.015539|/vzmL6fP7aPKNKPRT...|[{'name': 'TriSta...|[{'iso_3166_1': '...|          1995-12-15|           262797249|               104.0|[{'iso_639_1': 'e...|Released|Roll the dice and...|             Jumanji|   False|                 6.9|             2413|\n",
            "|False| {'id': 119050, 'n...|       0|[{'id': 10749, 'n...|                null|15602|tt0113228|               en|    Grumpier Old Men|A family wedding ...|   11.7129|/6ksm1sjKMFLbO7UY...|[{'name': 'Warner...|[{'iso_3166_1': '...|          1995-12-22|                   0|               101.0|[{'iso_639_1': 'e...|Released|Still Yelling. St...|    Grumpier Old Men|   False|                 6.5|               92|\n",
            "|False|                 null|16000000|[{'id': 35, 'name...|                null|31357|tt0114885|               en|   Waiting to Exhale|\"Cheated on, mist...|    Bernie| Glo and Robin ta...| determined to fi...|            3.859495|/16XOMpEaLWkrcPqS...|[{'name': 'Twenti...|[{'iso_3166_1': '...|          1995-12-22|81452156|               127.0|[{'iso_639_1': 'e...|Released|Friends are the p...|Waiting to Exhale|\n",
            "|False| {'id': 96871, 'na...|       0|[{'id': 35, 'name...|                null|11862|tt0113041|               en|Father of the Bri...|Just when George ...|  8.387519|/e64sOI48hQXyru7n...|[{'name': 'Sandol...|[{'iso_3166_1': '...|          1995-02-10|            76578911|               106.0|[{'iso_639_1': 'e...|Released|Just When His Wor...|Father of the Bri...|   False|                 5.7|              173|\n",
            "|False|                 null|60000000|[{'id': 28, 'name...|                null|  949|tt0113277|               en|                Heat|Obsessive master ...| 17.924927|/zMyfPUelumio3tiD...|[{'name': 'Regenc...|[{'iso_3166_1': '...|          1995-12-15|           187436818|               170.0|[{'iso_639_1': 'e...|Released|A Los Angeles Cri...|                Heat|   False|                 7.7|             1886|\n",
            "|False|                 null|58000000|[{'id': 35, 'name...|                null|11860|tt0114319|               en|             Sabrina|An ugly duckling ...|  6.677277|/jQh15y5YB7bWz1Nt...|[{'name': 'Paramo...|[{'iso_3166_1': '...|          1995-12-15|                   0|               127.0|[{'iso_639_1': 'f...|Released|You are cordially...|             Sabrina|   False|                 6.2|              141|\n",
            "|False|                 null|       0|[{'id': 28, 'name...|                null|45325|tt0112302|               en|        Tom and Huck|A mischievous you...|  2.561161|/sGO5Qa55p7wTu7FJ...|[{'name': 'Walt D...|[{'iso_3166_1': '...|          1995-12-22|                   0|                97.0|[{'iso_639_1': 'e...|Released|The Original Bad ...|        Tom and Huck|   False|                 5.4|               45|\n",
            "|False|                 null|35000000|[{'id': 28, 'name...|                null| 9091|tt0114576|               en|        Sudden Death|International act...|   5.23158|/eoWvKD60lT95Ss1M...|[{'name': 'Univer...|[{'iso_3166_1': '...|          1995-12-22|            64350171|               106.0|[{'iso_639_1': 'e...|Released|Terror goes into ...|        Sudden Death|   False|                 5.5|              174|\n",
            "|False| {'id': 645, 'name...|58000000|[{'id': 12, 'name...|http://www.mgm.co...|  710|tt0113189|               en|           GoldenEye|James Bond must u...| 14.686036|/5c0ovjT41KnYIHYu...|[{'name': 'United...|[{'iso_3166_1': '...|          1995-11-16|           352194034|               130.0|[{'iso_639_1': 'e...|Released|No limits. No fea...|           GoldenEye|   False|                 6.6|             1194|\n",
            "|False|                 null|62000000|[{'id': 35, 'name...|                null| 9087|tt0112346|               en|The American Pres...|Widowed U.S. pres...|  6.318445|/lymPNGLZgPHuqM29...|[{'name': 'Columb...|[{'iso_3166_1': '...|          1995-11-17|           107879496|               106.0|[{'iso_639_1': 'e...|Released|Why can't the mos...|The American Pres...|   False|                 6.5|              199|\n",
            "|False|                 null|       0|[{'id': 35, 'name...|                null|12110|tt0112896|               en|Dracula: Dead and...|When a lawyer sho...|  5.430331|/xve4cgfYItnOhtzL...|[{'name': 'Columb...|[{'iso_3166_1': '...|          1995-12-22|                   0|                88.0|[{'iso_639_1': 'e...|Released|                null|Dracula: Dead and...|   False|                 5.7|              210|\n",
            "|False| {'id': 117693, 'n...|       0|[{'id': 10751, 'n...|                null|21032|tt0112453|               en|               Balto|An outcast half-w...| 12.140733|/gV5PCAVCPNxlOLFM...|[{'name': 'Univer...|[{'iso_3166_1': '...|          1995-12-22|            11348324|                78.0|[{'iso_639_1': 'e...|Released|Part Dog. Part Wo...|               Balto|   False|                 7.1|              423|\n",
            "|False|                 null|44000000|[{'id': 36, 'name...|                null|10858|tt0113987|               en|               Nixon|An all-star cast ...|     5.092|/cICkmCEiXRhvZmbu...|[{'name': 'Hollyw...|[{'iso_3166_1': '...|          1995-12-22|            13681765|               192.0|[{'iso_639_1': 'e...|Released|Triumphant in Vic...|               Nixon|   False|                 7.1|               72|\n",
            "|False|                 null|98000000|[{'id': 28, 'name...|                null| 1408|tt0112760|               en|    Cutthroat Island|Morgan Adams and ...|  7.284477|/odM9973kIv9hcjfH...|[{'name': 'Le Stu...|[{'iso_3166_1': '...|          1995-12-22|            10017322|               119.0|[{'iso_639_1': 'e...|Released|The Course Has Be...|    Cutthroat Island|   False|                 5.7|              137|\n",
            "|False|                 null|52000000|[{'id': 18, 'name...|                null|  524|tt0112641|               en|              Casino|The life of the g...| 10.137389|/xo517ibXBDdYQY81...|[{'name': 'Univer...|[{'iso_3166_1': '...|          1995-11-22|           116112375|               178.0|[{'iso_639_1': 'e...|Released|No one stays at t...|              Casino|   False|                 7.8|             1343|\n",
            "|False|                 null|16500000|[{'id': 18, 'name...|                null| 4584|tt0114388|               en|Sense and Sensibi...|Rich Mr. Dashwood...| 10.673167|/lA9HTy84Bb6ZwNey...|[{'name': 'Columb...|[{'iso_3166_1': '...|          1995-12-13|           135000000|               136.0|[{'iso_639_1': 'e...|Released|Lose your heart a...|Sense and Sensibi...|   False|                 7.2|              364|\n",
            "|False|                 null| 4000000|[{'id': 80, 'name...|                null|    5|tt0113101|               en|          Four Rooms|It's Ted the Bell...|  9.026586|/eQs5hh9rxrk1m4xH...|[{'name': 'Mirama...|[{'iso_3166_1': '...|          1995-12-09|             4300000|                98.0|[{'iso_639_1': 'e...|Released|Twelve outrageous...|          Four Rooms|   False|                 6.5|              539|\n",
            "|False| {'id': 3167, 'nam...|30000000|[{'id': 80, 'name...|                null| 9273|tt0112281|               en|Ace Ventura: When...|Summoned from an ...|  8.205448|/wRlGnJhEzcxBjvWt...|[{'name': 'O Ente...|[{'iso_3166_1': '...|          1995-11-10|           212385533|                90.0|[{'iso_639_1': 'e...|Released|New animals. New ...|Ace Ventura: When...|   False|                 6.1|             1128|\n",
            "|False|                 null|60000000|[{'id': 28, 'name...|                null|11517|tt0113845|               en|         Money Train|A vengeful New Yo...|  7.337906|/jSozzzVOR2kfXgTU...|[{'name': 'Columb...|[{'iso_3166_1': '...|          1995-11-21|            35431113|               103.0|[{'iso_639_1': 'e...|Released|Get on, or GET OU...|         Money Train|   False|                 5.4|              224|\n",
            "+-----+---------------------+--------+--------------------+--------------------+-----+---------+-----------------+--------------------+--------------------+----------+--------------------+--------------------+--------------------+--------------------+--------------------+--------------------+--------------------+--------+--------------------+--------------------+--------+--------------------+-----------------+\n",
            "only showing top 20 rows\n",
            "\n"
          ]
        }
      ]
    },
    {
      "cell_type": "code",
      "source": [
        "# Creating Temp view for each of the tables.\n",
        "genres_df.createOrReplaceTempView(\"genres\")\n",
        "movies_df.createOrReplaceTempView(\"movies\")\n",
        "metadata_df.createOrReplaceTempView(\"metadata\")"
      ],
      "metadata": {
        "id": "Tnl89_38AwXb"
      },
      "execution_count": 55,
      "outputs": []
    },
    {
      "cell_type": "code",
      "source": [
        "budget_revenue_meta = spark.sql(\"\"\"\n",
        "  SELECT title, budget, revenue \n",
        "  FROM metadata \n",
        "  WHERE title is not null AND REGEXP_REPLACE(revenue, '[^0-9]', '') = revenue\"\"\")\n",
        "budget_revenue_meta.show()"
      ],
      "metadata": {
        "colab": {
          "base_uri": "https://localhost:8080/"
        },
        "id": "nxNn-xkUCUf6",
        "outputId": "649cb19a-002f-4990-c2a7-d1ecffb3a98f"
      },
      "execution_count": 56,
      "outputs": [
        {
          "output_type": "stream",
          "name": "stdout",
          "text": [
            "+--------------------+--------+---------+\n",
            "|               title|  budget|  revenue|\n",
            "+--------------------+--------+---------+\n",
            "|           Toy Story|30000000|373554033|\n",
            "|             Jumanji|65000000|262797249|\n",
            "|    Grumpier Old Men|       0|        0|\n",
            "|Father of the Bri...|       0| 76578911|\n",
            "|                Heat|60000000|187436818|\n",
            "|             Sabrina|58000000|        0|\n",
            "|        Tom and Huck|       0|        0|\n",
            "|        Sudden Death|35000000| 64350171|\n",
            "|           GoldenEye|58000000|352194034|\n",
            "|The American Pres...|62000000|107879496|\n",
            "|Dracula: Dead and...|       0|        0|\n",
            "|               Balto|       0| 11348324|\n",
            "|               Nixon|44000000| 13681765|\n",
            "|    Cutthroat Island|98000000| 10017322|\n",
            "|              Casino|52000000|116112375|\n",
            "|Sense and Sensibi...|16500000|135000000|\n",
            "|          Four Rooms| 4000000|  4300000|\n",
            "|Ace Ventura: When...|30000000|212385533|\n",
            "|         Money Train|60000000| 35431113|\n",
            "|             Copycat|       0|        0|\n",
            "+--------------------+--------+---------+\n",
            "only showing top 20 rows\n",
            "\n"
          ]
        }
      ]
    },
    {
      "cell_type": "code",
      "source": [
        "budget_revenue_meta.createOrReplaceTempView(\"budget_revenue_meta\")\n",
        "spark.sql(\"SELECT * FROM budget_revenue_meta where revenue is null\").show()\n"
      ],
      "metadata": {
        "colab": {
          "base_uri": "https://localhost:8080/"
        },
        "id": "SAz0-rBaFlWs",
        "outputId": "f8f597ae-2387-4fcf-c675-7ca8f5800487"
      },
      "execution_count": 57,
      "outputs": [
        {
          "output_type": "stream",
          "name": "stdout",
          "text": [
            "+-----+------+-------+\n",
            "|title|budget|revenue|\n",
            "+-----+------+-------+\n",
            "+-----+------+-------+\n",
            "\n"
          ]
        }
      ]
    },
    {
      "cell_type": "code",
      "source": [
        "movies_df.show(2)"
      ],
      "metadata": {
        "colab": {
          "base_uri": "https://localhost:8080/"
        },
        "id": "BmdrENHNSZKy",
        "outputId": "4abd780c-1d00-41d9-a474-f40b8cba679c"
      },
      "execution_count": 58,
      "outputs": [
        {
          "output_type": "stream",
          "name": "stdout",
          "text": [
            "+---------------+------+---------+----+--------------------+-----+--------+---------------+--------------------+--------------+--------------+---------+-----------+-----------------+-------+\n",
            "|           name|rating|    genre|year|            released|score|   votes|       director|              writer|          star|       country|   budget|      gross|          company|runtime|\n",
            "+---------------+------+---------+----+--------------------+-----+--------+---------------+--------------------+--------------+--------------+---------+-----------+-----------------+-------+\n",
            "|    The Shining|     R|    Drama|1980|June 13, 1980 (Un...|  8.4|927000.0|Stanley Kubrick|        Stephen King|Jack Nicholson|United Kingdom|    1.9E7|4.6998772E7|     Warner Bros.|  146.0|\n",
            "|The Blue Lagoon|     R|Adventure|1980|July 2, 1980 (Uni...|  5.8| 65000.0| Randal Kleiser|Henry De Vere Sta...|Brooke Shields| United States|4500000.0|5.8853106E7|Columbia Pictures|  104.0|\n",
            "+---------------+------+---------+----+--------------------+-----+--------+---------------+--------------------+--------------+--------------+---------+-----------+-----------------+-------+\n",
            "only showing top 2 rows\n",
            "\n"
          ]
        }
      ]
    },
    {
      "cell_type": "code",
      "source": [
        "movies2 = spark.sql(\"\"\"\n",
        "          SELECT \n",
        "            movies.name,\n",
        "            movies.rating,\n",
        "            movies.genre,\n",
        "            movies.year,\n",
        "            movies.released,\n",
        "            movies.score,\n",
        "            movies.votes,\n",
        "            movies.director,\n",
        "            movies.writer,\n",
        "            movies.star,\n",
        "            movies.country,\n",
        "            CASE \n",
        "              WHEN movies.budget is Null THEN 0\n",
        "              ELSE budget\n",
        "            END AS budget,\n",
        "            CASE \n",
        "              WHEN movies.gross is Null THEN 0\n",
        "              ELSE gross\n",
        "            END AS gross,\n",
        "            movies.company,\n",
        "            movies.runtime\n",
        "          FROM movies\n",
        "          \"\"\")\n",
        "movies2.createOrReplaceTempView(\"movies2\")\n",
        "spark.sql(\"select * from movies2\").show()"
      ],
      "metadata": {
        "colab": {
          "base_uri": "https://localhost:8080/"
        },
        "id": "0oykJ-x7UtHD",
        "outputId": "4d012efc-10d9-4190-d20c-24f62798cc44"
      },
      "execution_count": 59,
      "outputs": [
        {
          "output_type": "stream",
          "name": "stdout",
          "text": [
            "+--------------------+------+---------+----+--------------------+------------------+--------------------+-----------------+--------------+---------+------------+--------------------+-------+\n",
            "|                name|rating|    genre|year|            released|          director|              writer|             star|       country|   budget|       gross|             company|runtime|\n",
            "+--------------------+------+---------+----+--------------------+------------------+--------------------+-----------------+--------------+---------+------------+--------------------+-------+\n",
            "|         The Shining|     R|    Drama|1980|June 13, 1980 (Un...|   Stanley Kubrick|        Stephen King|   Jack Nicholson|United Kingdom|    1.9E7| 4.6998772E7|        Warner Bros.|  146.0|\n",
            "|     The Blue Lagoon|     R|Adventure|1980|July 2, 1980 (Uni...|    Randal Kleiser|Henry De Vere Sta...|   Brooke Shields| United States|4500000.0| 5.8853106E7|   Columbia Pictures|  104.0|\n",
            "|Star Wars: Episod...|    PG|   Action|1980|June 20, 1980 (Un...|    Irvin Kershner|      Leigh Brackett|      Mark Hamill| United States|    1.8E7|5.38375067E8|           Lucasfilm|  124.0|\n",
            "|           Airplane!|    PG|   Comedy|1980|July 2, 1980 (Uni...|      Jim Abrahams|        Jim Abrahams|      Robert Hays| United States|3500000.0| 8.3453539E7|  Paramount Pictures|   88.0|\n",
            "|          Caddyshack|     R|   Comedy|1980|July 25, 1980 (Un...|      Harold Ramis|  Brian Doyle-Murray|      Chevy Chase| United States|6000000.0| 3.9846344E7|      Orion Pictures|   98.0|\n",
            "|     Friday the 13th|     R|   Horror|1980|May 9, 1980 (Unit...|Sean S. Cunningham|       Victor Miller|     Betsy Palmer| United States| 550000.0| 3.9754601E7|  Paramount Pictures|   95.0|\n",
            "|  The Blues Brothers|     R|   Action|1980|June 20, 1980 (Un...|       John Landis|         Dan Aykroyd|     John Belushi| United States|    2.7E7| 1.1522989E8|  Universal Pictures|  133.0|\n",
            "|         Raging Bull|     R|Biography|1980|December 19, 1980...|   Martin Scorsese|        Jake LaMotta|   Robert De Niro| United States|    1.8E7| 2.3402427E7|Chartoff-Winkler ...|  129.0|\n",
            "|         Superman II|    PG|   Action|1980|June 19, 1981 (Un...|    Richard Lester|        Jerry Siegel|     Gene Hackman| United States|    5.4E7|1.08185706E8|      Dovemead Films|  127.0|\n",
            "|     The Long Riders|     R|Biography|1980|May 16, 1980 (Uni...|       Walter Hill|         Bill Bryden|  David Carradine| United States|    1.0E7| 1.5795189E7|      United Artists|  100.0|\n",
            "|Any Which Way You...|    PG|   Action|1980|December 17, 1980...|    Buddy Van Horn|    Stanford Sherman|   Clint Eastwood| United States|    1.5E7| 7.0687344E7| The Malpaso Company|  116.0|\n",
            "|The Gods Must Be ...|    PG|Adventure|1980|October 26, 1984 ...|         Jamie Uys|           Jamie Uys|            N!xau|  South Africa|5000000.0| 3.0031783E7|        C.A.T. Films|  109.0|\n",
            "|              Popeye|    PG|Adventure|1980|December 12, 1980...|     Robert Altman|       Jules Feiffer|   Robin Williams| United States|    2.0E7| 4.9823037E7|  Paramount Pictures|  114.0|\n",
            "|     Ordinary People|     R|    Drama|1980|September 19, 198...|    Robert Redford|        Judith Guest|Donald Sutherland| United States|6000000.0| 5.4766923E7|  Paramount Pictures|  124.0|\n",
            "|     Dressed to Kill|     R|    Crime|1980|July 25, 1980 (Un...|    Brian De Palma|      Brian De Palma|    Michael Caine| United States|6500000.0|    3.1899E7|   Filmways Pictures|  104.0|\n",
            "|   Somewhere in Time|    PG|    Drama|1980|October 3, 1980 (...|    Jeannot Szwarc|    Richard Matheson|Christopher Reeve| United States|5100000.0|   9709597.0|     Rastar Pictures|  103.0|\n",
            "|                Fame|     R|    Drama|1980|May 16, 1980 (Uni...|       Alan Parker|    Christopher Gore|      Eddie Barth| United States|      0.0| 2.1202829E7|Metro-Goldwyn-May...|  134.0|\n",
            "|              9 to 5|    PG|   Comedy|1980|December 19, 1980...|     Colin Higgins|    Patricia Resnick|       Jane Fonda| United States|    1.0E7|1.03300686E8|           IPC Films|  109.0|\n",
            "|             The Fog|     R|   Horror|1980|February 8, 1980 ...|    John Carpenter|      John Carpenter| Adrienne Barbeau| United States|1000000.0| 2.1448782E7|AVCO Embassy Pict...|   89.0|\n",
            "|          Stir Crazy|     R|   Comedy|1980|December 12, 1980...|    Sidney Poitier|  Bruce Jay Friedman|      Gene Wilder| United States|      0.0|     1.013E8|   Columbia Pictures|  111.0|\n",
            "+--------------------+------+---------+----+--------------------+------------------+--------------------+-----------------+--------------+---------+------------+--------------------+-------+\n",
            "only showing top 20 rows\n",
            "\n"
          ]
        }
      ]
    },
    {
      "cell_type": "code",
      "source": [
        "spark.sql(\"select count(year) from movies where budget is null\").show()"
      ],
      "metadata": {
        "colab": {
          "base_uri": "https://localhost:8080/"
        },
        "id": "C9GgIpeBVOkn",
        "outputId": "b4e3f49d-275e-4d9a-b4f5-f064532fafa7"
      },
      "execution_count": 60,
      "outputs": [
        {
          "output_type": "stream",
          "name": "stdout",
          "text": [
            "+-----------+\n",
            "|count(year)|\n",
            "+-----------+\n",
            "|       2171|\n",
            "+-----------+\n",
            "\n"
          ]
        }
      ]
    },
    {
      "cell_type": "code",
      "source": [
        "spark.sql(\"select count(year) from movies2 where budget == 0\").show()"
      ],
      "metadata": {
        "colab": {
          "base_uri": "https://localhost:8080/"
        },
        "id": "N0Wh9gIWVW4h",
        "outputId": "60a0fe47-d140-405e-a2c0-f60b623e4041"
      },
      "execution_count": 61,
      "outputs": [
        {
          "output_type": "stream",
          "name": "stdout",
          "text": [
            "+-----------+\n",
            "|count(year)|\n",
            "+-----------+\n",
            "|       2171|\n",
            "+-----------+\n",
            "\n"
          ]
        }
      ]
    },
    {
      "cell_type": "code",
      "source": [
        "new_df = spark.sql(\"\"\"\n",
        "          SELECT \n",
        "            movies2.name,\n",
        "            movies2.rating,\n",
        "            movies2.genre,\n",
        "            movies2.year,\n",
        "            movies2.released,\n",
        "            movies2.director,\n",
        "            movies2.writer,\n",
        "            movies2.star,\n",
        "            movies2.country,\n",
        "            CASE \n",
        "              WHEN movies2.budget != 0 THEN movies2.budget\n",
        "              ELSE budget_revenue_meta.budget\n",
        "            END AS budget,\n",
        "            CASE \n",
        "              WHEN movies2.gross != 0 THEN movies2.gross\n",
        "              ELSE budget_revenue_meta.revenue\n",
        "            END AS gross,\n",
        "            movies2.company,\n",
        "            movies2.runtime\n",
        "          FROM movies2\n",
        "          LEFT JOIN budget_revenue_meta\n",
        "          ON movies2.name = budget_revenue_meta.title\n",
        "          \"\"\")\n",
        "new_df.show()"
      ],
      "metadata": {
        "colab": {
          "base_uri": "https://localhost:8080/"
        },
        "id": "yBbDb1NOK_6q",
        "outputId": "534b04ae-948a-431e-8a45-daac6025d014"
      },
      "execution_count": 62,
      "outputs": [
        {
          "output_type": "stream",
          "name": "stdout",
          "text": [
            "+--------------------+------+---------+----+--------------------+------------------+--------------------+-----------------+--------------+---------+------------+--------------------+-------+\n",
            "|                name|rating|    genre|year|            released|          director|              writer|             star|       country|   budget|       gross|             company|runtime|\n",
            "+--------------------+------+---------+----+--------------------+------------------+--------------------+-----------------+--------------+---------+------------+--------------------+-------+\n",
            "|         The Shining|     R|    Drama|1980|June 13, 1980 (Un...|   Stanley Kubrick|        Stephen King|   Jack Nicholson|United Kingdom|    1.9E7| 4.6998772E7|        Warner Bros.|  146.0|\n",
            "|     The Blue Lagoon|     R|Adventure|1980|July 2, 1980 (Uni...|    Randal Kleiser|Henry De Vere Sta...|   Brooke Shields| United States|4500000.0| 5.8853106E7|   Columbia Pictures|  104.0|\n",
            "|     The Blue Lagoon|     R|Adventure|1980|July 2, 1980 (Uni...|    Randal Kleiser|Henry De Vere Sta...|   Brooke Shields| United States|4500000.0| 5.8853106E7|   Columbia Pictures|  104.0|\n",
            "|Star Wars: Episod...|    PG|   Action|1980|June 20, 1980 (Un...|    Irvin Kershner|      Leigh Brackett|      Mark Hamill| United States|    1.8E7|5.38375067E8|           Lucasfilm|  124.0|\n",
            "|           Airplane!|    PG|   Comedy|1980|July 2, 1980 (Uni...|      Jim Abrahams|        Jim Abrahams|      Robert Hays| United States|3500000.0| 8.3453539E7|  Paramount Pictures|   88.0|\n",
            "|          Caddyshack|     R|   Comedy|1980|July 25, 1980 (Un...|      Harold Ramis|  Brian Doyle-Murray|      Chevy Chase| United States|6000000.0| 3.9846344E7|      Orion Pictures|   98.0|\n",
            "|     Friday the 13th|     R|   Horror|1980|May 9, 1980 (Unit...|Sean S. Cunningham|       Victor Miller|     Betsy Palmer| United States| 550000.0| 3.9754601E7|  Paramount Pictures|   95.0|\n",
            "|     Friday the 13th|     R|   Horror|1980|May 9, 1980 (Unit...|Sean S. Cunningham|       Victor Miller|     Betsy Palmer| United States| 550000.0| 3.9754601E7|  Paramount Pictures|   95.0|\n",
            "|  The Blues Brothers|     R|   Action|1980|June 20, 1980 (Un...|       John Landis|         Dan Aykroyd|     John Belushi| United States|    2.7E7| 1.1522989E8|  Universal Pictures|  133.0|\n",
            "|         Raging Bull|     R|Biography|1980|December 19, 1980...|   Martin Scorsese|        Jake LaMotta|   Robert De Niro| United States|    1.8E7| 2.3402427E7|Chartoff-Winkler ...|  129.0|\n",
            "|         Superman II|    PG|   Action|1980|June 19, 1981 (Un...|    Richard Lester|        Jerry Siegel|     Gene Hackman| United States|    5.4E7|1.08185706E8|      Dovemead Films|  127.0|\n",
            "|     The Long Riders|     R|Biography|1980|May 16, 1980 (Uni...|       Walter Hill|         Bill Bryden|  David Carradine| United States|    1.0E7| 1.5795189E7|      United Artists|  100.0|\n",
            "|Any Which Way You...|    PG|   Action|1980|December 17, 1980...|    Buddy Van Horn|    Stanford Sherman|   Clint Eastwood| United States|    1.5E7| 7.0687344E7| The Malpaso Company|  116.0|\n",
            "|The Gods Must Be ...|    PG|Adventure|1980|October 26, 1984 ...|         Jamie Uys|           Jamie Uys|            N!xau|  South Africa|5000000.0| 3.0031783E7|        C.A.T. Films|  109.0|\n",
            "|              Popeye|    PG|Adventure|1980|December 12, 1980...|     Robert Altman|       Jules Feiffer|   Robin Williams| United States|    2.0E7| 4.9823037E7|  Paramount Pictures|  114.0|\n",
            "|     Ordinary People|     R|    Drama|1980|September 19, 198...|    Robert Redford|        Judith Guest|Donald Sutherland| United States|6000000.0| 5.4766923E7|  Paramount Pictures|  124.0|\n",
            "|     Dressed to Kill|     R|    Crime|1980|July 25, 1980 (Un...|    Brian De Palma|      Brian De Palma|    Michael Caine| United States|6500000.0|    3.1899E7|   Filmways Pictures|  104.0|\n",
            "|     Dressed to Kill|     R|    Crime|1980|July 25, 1980 (Un...|    Brian De Palma|      Brian De Palma|    Michael Caine| United States|6500000.0|    3.1899E7|   Filmways Pictures|  104.0|\n",
            "|     Dressed to Kill|     R|    Crime|1980|July 25, 1980 (Un...|    Brian De Palma|      Brian De Palma|    Michael Caine| United States|6500000.0|    3.1899E7|   Filmways Pictures|  104.0|\n",
            "|   Somewhere in Time|    PG|    Drama|1980|October 3, 1980 (...|    Jeannot Szwarc|    Richard Matheson|Christopher Reeve| United States|5100000.0|   9709597.0|     Rastar Pictures|  103.0|\n",
            "+--------------------+------+---------+----+--------------------+------------------+--------------------+-----------------+--------------+---------+------------+--------------------+-------+\n",
            "only showing top 20 rows\n",
            "\n"
          ]
        }
      ]
    },
    {
      "cell_type": "code",
      "source": [
        "new_df.createOrReplaceTempView(\"joined\")\n",
        "spark.sql(\"SELECT * FROM joined where budget == 0\").show()"
      ],
      "metadata": {
        "colab": {
          "base_uri": "https://localhost:8080/"
        },
        "id": "lofOHxYnUTFM",
        "outputId": "15ae8be9-ca0c-411a-8915-317c5a36a618"
      },
      "execution_count": 63,
      "outputs": [
        {
          "output_type": "stream",
          "name": "stdout",
          "text": [
            "+--------------------+------+---------+----+--------------------+-----------------+------------------+--------------------+--------------+------+-----------+--------------------+-------+\n",
            "|                name|rating|    genre|year|            released|         director|            writer|                star|       country|budget|      gross|             company|runtime|\n",
            "+--------------------+------+---------+----+--------------------+-----------------+------------------+--------------------+--------------+------+-----------+--------------------+-------+\n",
            "|                Fame|     R|    Drama|1980|May 16, 1980 (Uni...|      Alan Parker|  Christopher Gore|         Eddie Barth| United States|     0|2.1202829E7|Metro-Goldwyn-May...|  134.0|\n",
            "|                Fame|     R|    Drama|1980|May 16, 1980 (Uni...|      Alan Parker|  Christopher Gore|         Eddie Barth| United States|     0|2.1202829E7|Metro-Goldwyn-May...|  134.0|\n",
            "|          Stir Crazy|     R|   Comedy|1980|December 12, 1980...|   Sidney Poitier|Bruce Jay Friedman|         Gene Wilder| United States|     0|    1.013E8|   Columbia Pictures|  111.0|\n",
            "|        Urban Cowboy|    PG|    Drama|1980|June 6, 1980 (Uni...|    James Bridges|      Aaron Latham|       John Travolta| United States|     0|4.6918287E7|  Paramount Pictures|  132.0|\n",
            "|     Little Darlings|     R|   Comedy|1980|March 21, 1980 (U...|      Ron Maxwell|         Kimi Peck|        Tatum O'Neal| United States|     0|3.4326249E7|Stephen Friedman/...|   96.0|\n",
            "|          Prom Night|     R|   Horror|1980|July 18, 1980 (Un...|       Paul Lynch|      William Gray|      Leslie Nielsen|        Canada|     0|1.4796236E7|Guardian Trust Co...|   92.0|\n",
            "|Smokey and the Ba...|    PG|   Action|1980|August 15, 1980 (...|      Hal Needham|       Hal Needham|       Burt Reynolds| United States|     0|6.6132626E7|  Universal Pictures|  100.0|\n",
            "|Seems Like Old Times|    PG|   Comedy|1980|December 19, 1980...|     Jay Sandrich|        Neil Simon|         Goldie Hawn| United States|     0|4.3995918E7|        Rastar Films|  102.0|\n",
            "|     The Jazz Singer|    PG|    Drama|1980|December 19, 1980...|Richard Fleischer| Samson Raphaelson|    Laurence Olivier| United States|     0|   2.7118E7|           EMI Films|  115.0|\n",
            "|     The Jazz Singer|    PG|    Drama|1980|December 19, 1980...|Richard Fleischer| Samson Raphaelson|    Laurence Olivier| United States|     0|   2.7118E7|           EMI Films|  115.0|\n",
            "|The Watcher in th...|    PG|   Family|1980|October 9, 1981 (...|       John Hough|     Brian Clemens|         Bette Davis| United States|     0|  5000000.0|Walt Disney Produ...|   84.0|\n",
            "|Where the Buffalo...|     R|Biography|1980|April 25, 1980 (U...|       Art Linson|Hunter S. Thompson|         Peter Boyle| United States|     0|  6659377.0|  Universal Pictures|   99.0|\n",
            "|       The Awakening|     R|   Horror|1980|October 31, 1980 ...|      Mike Newell|       Allan Scott|     Charlton Heston|United Kingdom|     0|  8415112.0|           EMI Films|  101.0|\n",
            "|       City of Women|     R|   Comedy|1980|April 8, 1981 (Un...| Federico Fellini|  Federico Fellini|Marcello Mastroianni|         Italy|     0|    12516.0|Opera Film Produz...|  139.0|\n",
            "|    The Private Eyes|    PG|   Comedy|1980|November 21, 1980...|     Lang Elliott|        Tim Conway|          Tim Conway| United States|     0|          0|Tri Star Productions|   91.0|\n",
            "| Herbie Goes Bananas|     G|Adventure|1980|June 25, 1980 (Un...| Vincent McEveety|          Don Tait|Charles Martin Smith| United States|     0|      1.8E7|Walt Disney Produ...|  100.0|\n",
            "|     The Competition|    PG|    Drama|1980|December 3, 1980 ...|    Joel Oliansky|     Joel Oliansky|    Richard Dreyfuss| United States|     0|1.4287755E7|        Rastar Films|  123.0|\n",
            "|        It's My Turn|     R|   Comedy|1980|February 5, 1981 ...|    Claudia Weill| Eleanor Bergstein|      Jill Clayburgh| United States|     0|          0|        Rastar Films|   91.0|\n",
            "|    Honeysuckle Rose|    PG|    Drama|1980|July 18, 1980 (Un...| Jerry Schatzberg|     Gösta Stevens|       Willie Nelson| United States|     0|1.7815212E7|Major Studio Part...|  119.0|\n",
            "|        Resurrection|    PG|    Drama|1980|September 26, 198...|    Daniel Petrie|Lewis John Carlino|       Ellen Burstyn| United States|     0|  3910019.0|  Universal Pictures|  103.0|\n",
            "+--------------------+------+---------+----+--------------------+-----------------+------------------+--------------------+--------------+------+-----------+--------------------+-------+\n",
            "only showing top 20 rows\n",
            "\n"
          ]
        }
      ]
    },
    {
      "cell_type": "code",
      "source": [
        "spark.sql(\"select count(name) from joined where budget == 0\").show()"
      ],
      "metadata": {
        "colab": {
          "base_uri": "https://localhost:8080/"
        },
        "id": "RsO8hz8SuBjo",
        "outputId": "e8d07c98-5034-4574-cbfb-6d8c682b9132"
      },
      "execution_count": 73,
      "outputs": [
        {
          "output_type": "stream",
          "name": "stdout",
          "text": [
            "+-----------+\n",
            "|count(name)|\n",
            "+-----------+\n",
            "|       1683|\n",
            "+-----------+\n",
            "\n"
          ]
        }
      ]
    },
    {
      "cell_type": "code",
      "source": [
        "\n",
        "\n",
        "movies_df = new_df.toPandas()\n",
        "movies_df.to_csv(\"movies3.csv\", index=False)"
      ],
      "metadata": {
        "id": "k4bsEJag9uEg"
      },
      "execution_count": 76,
      "outputs": []
    },
    {
      "cell_type": "code",
      "source": [],
      "metadata": {
        "id": "AZOlMZq13Y0w"
      },
      "execution_count": null,
      "outputs": []
    }
  ]
}